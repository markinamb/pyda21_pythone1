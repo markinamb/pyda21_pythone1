{
 "cells": [
  {
   "cell_type": "markdown",
   "metadata": {},
   "source": [
    "## Задание 1\n",
    "Даны 2 переменных, в которых хранятся строки произвольной длины: phrase_1 и phrase_2.\n",
    "Напишите код, который проверяет какая из этих строк длиннее.\n",
    "\n",
    "Примеры работы программы:\n",
    "\n",
    "phrase_1 = 'Насколько проще было бы писать программы, если бы не заказчики’\n",
    "phrase_2 = '640Кб должно хватить для любых задач. Билл Гейтс (по легенде)'\n",
    "Результат:\n",
    "Фраза 1 длиннее фразы 2\n",
    "\n",
    "phrase_1 = '640Кб должно хватить для любых задач. Билл Гейтс (по легенде)'\n",
    "phrase_2 = 'Насколько проще было бы писать программы, если бы не заказчики’\n",
    "Результат:\n",
    "Фраза 2 длиннее фразы 1\n",
    "\n",
    "phrase_1 = 'Насколько проще было бы писать программы, если бы не заказчики’\n",
    "phrase_2 = 'Насколько проще было бы писать программы, если бы не заказчики’\n",
    "Результат:\n",
    "Фразы равной длины"
   ]
  },
  {
   "cell_type": "code",
   "execution_count": 6,
   "metadata": {},
   "outputs": [],
   "source": [
    "phrase_1 = 'Работа не волк, в лес не убежит'\n",
    "phrase_2 = 'Без труда не вытянешь и рыбку из пруда'"
   ]
  },
  {
   "cell_type": "code",
   "execution_count": 14,
   "metadata": {},
   "outputs": [
    {
     "name": "stdout",
     "output_type": "stream",
     "text": [
      "Вторая фраза длинее первой фразы\n"
     ]
    }
   ],
   "source": [
    "if len(phrase_1) > len(phrase_2): \n",
    "    print ('Первая фраза длинее фразы 2')\n",
    "else: \n",
    "    print ('Вторая фраза длинее первой фразы')"
   ]
  },
  {
   "cell_type": "code",
   "execution_count": 20,
   "metadata": {},
   "outputs": [
    {
     "name": "stdout",
     "output_type": "stream",
     "text": [
      "Первая фраза длинее фразы 2\n"
     ]
    }
   ],
   "source": [
    "phrase_1 = 'Диплом позволяет ошибаться значительно увереннее'\n",
    "phrase_2 = 'Без труда не вытянешь и рыбку из пруда'\n",
    "if len(phrase_1) > len(phrase_2): \n",
    "    print ('Первая фраза длинее фразы 2')\n",
    "else: \n",
    "    print ('Вторая фраза длинее первой фразы')"
   ]
  },
  {
   "cell_type": "code",
   "execution_count": 19,
   "metadata": {},
   "outputs": [
    {
     "name": "stdout",
     "output_type": "stream",
     "text": [
      "Фразы равной длины\n"
     ]
    }
   ],
   "source": [
    "phrase_1 = 'Человек ближе всего к совершенству, когда танцует один.'\n",
    "phrase_2 = 'Человек ближе всего к совершенству, когда пишет резюме.'\n",
    "if len(phrase_1) > len(phrase_2):\n",
    "    print('Первая фраза длинее фразы 2')\n",
    "elif len(phrase_1) == len(phrase_2):\n",
    "    print('Фразы равной длины')\n",
    "else:\n",
    "    print('Вторая фраза длинее первой фразы')\n"
   ]
  },
  {
   "cell_type": "markdown",
   "metadata": {},
   "source": [
    "# Задание 2\n",
    "Дана переменная, в которой хранится четырехзначное число (год). Необходимо написать программу, которая выведет, является ли данный год високосным или обычным.\n",
    "\n",
    "Пример работы программы:\n",
    "\n",
    "year = 2020\n",
    "Результат:\n",
    "Високосный год\n",
    "\n",
    "year = 2019\n",
    "Результат:\n",
    "Обычный год"
   ]
  },
  {
   "cell_type": "code",
   "execution_count": 42,
   "metadata": {},
   "outputs": [
    {
     "name": "stdout",
     "output_type": "stream",
     "text": [
      "1600 Год високосный\n"
     ]
    }
   ],
   "source": [
    "year =1600\n",
    "if (year % 4 != 0):\n",
    "    print (year, 'Обычный год')\n",
    "elif (year % 100 != 0):\n",
    "    print (year, 'Год високосный')\n",
    "elif (year % 400 == 0):\n",
    "    print(year, 'Год високосный')\n",
    "else:\n",
    "    print(year, 'Обычный год')\n",
    "    \n",
    "    "
   ]
  },
  {
   "cell_type": "markdown",
   "metadata": {},
   "source": [
    "# Задание 3\n",
    "Необходимо написать программу, которая будет запрашивать у пользователя месяц и дату рождения и выводить соответствующий знак зодиака.\n",
    "\n",
    "Пример работы программы:\n",
    "\n",
    "Введите день:\n",
    "30\n",
    "\n",
    "Введите месяц:\n",
    "Август\n",
    "Результат:\n",
    "Ваш знак зодиака: Дева\n",
    "\n",
    "Введите день:\n",
    "29\n",
    "\n",
    "Введите месяц:\n",
    "Октябрь\n",
    "Результат:\n",
    "Ваш знак зодиака: Скорпион"
   ]
  },
  {
   "cell_type": "code",
   "execution_count": 22,
   "metadata": {},
   "outputs": [
    {
     "name": "stdout",
     "output_type": "stream",
     "text": [
      "Введите месяц рождения ноябрь\n",
      "Введите день рождения 12\n",
      "12 Ноябрь Ваш знак зодиака: Скорпион\n"
     ]
    }
   ],
   "source": [
    "input_month = input('Введите месяц рождения ')\n",
    "input_day = int(input('Введите день рождения '))\n",
    "input_month = input_month.capitalize()\n",
    "if input_month == 'Март' and input_day >= 21 and input_day <= 31 or input_month =='Апрель' and input_day >= 1 and input_day <= 20:\n",
    "    print ( input_day, input_month ,  'Ваш знак зодиака: Овен')\n",
    "elif input_month == 'Апрель' and input_day >= 21 and input_day <= 30 or input_month =='Май' and input_day >= 1 and input_day <= 20:\n",
    "    print ( input_day, input_month ,  'Ваш знак зодиака: Телец')\n",
    "elif input_month == 'Май' and input_day >= 21 and input_day <= 31 or input_month =='Июнь' and input_day >= 1 and input_day <= 21:\n",
    "    print ( input_day, input_month ,  'Ваш знак зодиака: Близнецы')\n",
    "elif input_month == 'Июнь' and input_day >= 22 and input_day <= 30 or input_month =='Июль' and input_day >= 1 and input_day <= 22:\n",
    "    print ( input_day, input_month ,  'Ваш знак зодиака: Рак')\n",
    "elif input_month == 'Июль' and input_day >= 23 and input_day <= 31 or input_month =='Август' and input_day >= 1 and input_day <= 22:\n",
    "    print ( input_day, input_month ,  'Ваш знак зодиака: Лев')    \n",
    "elif input_month == 'Август' and input_day >= 23 and input_day <= 31 or input_month =='Сентябрь' and input_day >= 1 and input_day <= 22:\n",
    "    print ( input_day, input_month ,  'Ваш знак зодиака: Дева')\n",
    "elif input_month == 'Сентябрь' and input_day >= 23 and input_day <= 30 or input_month =='Октябрь' and input_day >= 1 and input_day <= 22:\n",
    "    print ( input_day, input_month ,  'Ваш знак зодиака: Весы')\n",
    "elif input_month == 'Октябрь' and input_day >= 23 and input_day <= 31 or input_month =='Ноябрь' and input_day >= 1 and input_day <= 21:\n",
    "    print ( input_day, input_month ,  'Ваш знак зодиака: Скорпион')\n",
    "elif input_month == 'Ноябрь' and input_day >= 22 and input_day <= 30 or input_month =='Декабрь' and input_day >= 1 and input_day <= 20:\n",
    "    print ( input_day, input_month ,  'Ваш знак зодиака: Стрелец')\n",
    "elif input_month == 'Декабрь' and input_day >= 21 and input_day <= 31 or input_month =='Январь' and input_day >= 1 and input_day <= 19:\n",
    "    print ( input_day, input_month ,  'Ваш знак зодиака: Козерог')\n",
    "elif input_month == 'Январь' and input_day >= 20 and input_day <= 31 or input_month =='Февраль' and input_day >= 1 and input_day <= 19:\n",
    "    print ( input_day, input_month ,  'Ваш знак зодиака: Водолей')\n",
    "elif input_month == 'Февраль' and input_day >= 20 and input_day <= 29 or input_month =='Март' and input_day >= 1 and input_day <= 20:\n",
    "    print ( input_day, input_month ,  'Ваш знак зодиака: Рыбы')  \n",
    "else:\n",
    "    print ('Дата введена не корректно. Попробуйте еще раз.')\n",
    "    \n"
   ]
  },
  {
   "cell_type": "markdown",
   "metadata": {},
   "source": [
    "# Задание 4\n",
    "Вам нужно написать программу для подбора упаковок по размерам товара. Размеры (ширина, длина, высота) хранятся в переменных (в сантиметрах):\n",
    "\n",
    "Используйте следующие правила:\n",
    "\n",
    " - если каждое из трех измерений менее 15 сантиметров, то выведите на экран \"Коробка №1\";\n",
    " - если хотя бы одно из измерений больше 15 сантиметров, но менее 50 сантиметров, то выводите \"Коробка №2\";\n",
    " - если длина товара больше 2 метров, то выводите \"Упаковка для лыж\";\n",
    " - во всех остальных случаях выводите \"Стандартная коробка №3\".\n",
    "\n",
    "Пример работы программы:\n",
    "\n",
    "width = 15\n",
    "length = 50\n",
    "height = 15\n",
    "Результат:\n",
    "Стандартная коробка №3\n",
    "\n",
    "width = 45\n",
    "length = 205\n",
    "height = 45\n",
    "Результат:\n",
    "Ищите упаковку для лыж"
   ]
  },
  {
   "cell_type": "code",
   "execution_count": 8,
   "metadata": {},
   "outputs": [
    {
     "name": "stdout",
     "output_type": "stream",
     "text": [
      "Подбор упаковки для вашего товара. Введите ширину, длину и высоту нужной упаковки (в см). \n",
      "Ширина (см): 15\n",
      "Длина (см): 50\n",
      "Высота (см): 300\n",
      "Вам нужна Стандартная коробка №3\n"
     ]
    }
   ],
   "source": [
    "print ('Подбор упаковки для вашего товара. Введите ширину, длину и высоту нужной упаковки (в см). ')\n",
    "input_width = int(input('Ширина (см): '))\n",
    "input_lenth = int(input('Длина (см): '))\n",
    "input_height = int(input('Высота (см): '))\n",
    "if    input_lenth > 200:\n",
    "    print ('Вам нужна упаковка для лыж')\n",
    "elif input_width < 15 and input_lenth < 15 and  input_height < 15 :\n",
    "    print ('Вам подойдет Коробка №1 ')\n",
    "elif input_width < 50 and input_lenth < 50 and  input_height <50:\n",
    "    if input_width > 15 or input_lenth > 15 or  input_height > 15:\n",
    "        print ('Вам подойдет Коробка №2')\n",
    "else:\n",
    "    print ('Вам нужна Стандартная коробка №3')\n"
   ]
  }
 ],
 "metadata": {
  "kernelspec": {
   "display_name": "Python 3",
   "language": "python",
   "name": "python3"
  },
  "language_info": {
   "codemirror_mode": {
    "name": "ipython",
    "version": 3
   },
   "file_extension": ".py",
   "mimetype": "text/x-python",
   "name": "python",
   "nbconvert_exporter": "python",
   "pygments_lexer": "ipython3",
   "version": "3.8.5"
  }
 },
 "nbformat": 4,
 "nbformat_minor": 4
}
